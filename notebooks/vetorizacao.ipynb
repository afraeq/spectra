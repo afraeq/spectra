{
 "cells": [
  {
   "cell_type": "markdown",
   "metadata": {},
   "source": [
    "# Espectros de variância, covariância e correlação\n",
    "\n",
    "### Implementação com vetorização "
   ]
  },
  {
   "cell_type": "markdown",
   "metadata": {},
   "source": [
    "por [Afrânio](http://afrjr.weebly.com) - LMSCP - Laboratório de Modelagem, Simulação e Controle de Processos - PEQ/COPPE/UFRJ\n",
    "\n",
    "11/2018"
   ]
  },
  {
   "cell_type": "markdown",
   "metadata": {},
   "source": [
    "Neste notebook, é explicada em detalhes a implementação do cálculo dos espectros de variância, covariância e correlação de forma otimizada utilizando conceitos de vetorização. A linguagem de programação utilizada é a [Python 3.6](https://www.python.org/) e a vetorização se baseia em recursos da biblioteca [NumPy](http://www.numpy.org/).\n",
    "\n",
    "Atenção: A classe **spectra** aqui implementada está totalmente funcional, mas pode não estar em sua última versão. Para a versão mais recente, checar o módulo *spectra.py* presente no repositório https://github.com/afraeq/spectra."
   ]
  },
  {
   "cell_type": "code",
   "execution_count": 1,
   "metadata": {},
   "outputs": [],
   "source": [
    "# importando todos os módulos necessários\n",
    "\n",
    "import os\n",
    "import numpy as np\n",
    "import pandas as pd\n",
    "import matplotlib.pyplot as plt\n",
    "\n",
    "import warnings\n",
    "warnings.filterwarnings(\"ignore\")\n",
    "\n",
    "%matplotlib inline"
   ]
  },
  {
   "cell_type": "markdown",
   "metadata": {},
   "source": [
    "### Broadcasting"
   ]
  },
  {
   "cell_type": "markdown",
   "metadata": {},
   "source": [
    "A base da construção das janelas móveis para o cálculo dos espectros está no conceito de [broadcasting](https://docs.scipy.org/doc/numpy-1.15.0/user/basics.broadcasting.html), que diz respeito a como o [NumPy](http://www.numpy.org/) trata matrizes de dimensões diferentes em operações aritméticas. \n",
    "\n",
    "Quando o [NumPy](http://www.numpy.org/) realiza uma operação aritmética entre duas matrizes, ele compara as dimensões de seus eixos, começando pelo final e indo até o primeiro eixo da matriz menor, de modo a verificar a compatibilidade entre elas. Dois eixos são ditos compatíveis se:\n",
    "\n",
    "* *suas dimensões são iguais*. Nesse caso, a operação entre os eixos é realizada intuitivamente, elemento a elemento. \n",
    "* *uma das dimensões é 1*. Nesse caso, os elementos do eixo com dimensão 1 são repetidos $n$ vezes, sendo $n$ a dimensão do outro eixo. É como se o eixo de dimensão 1 fosse \"esticado\" de modo a ficar do mesmo tamanho do eixo de dimensão $n$. Isso ocorre, por exemplo, quando multiplicamos um escalar por um vetor:"
   ]
  },
  {
   "cell_type": "code",
   "execution_count": 2,
   "metadata": {},
   "outputs": [
    {
     "data": {
      "text/plain": [
       "array([0, 2, 4, 6])"
      ]
     },
     "execution_count": 2,
     "metadata": {},
     "output_type": "execute_result"
    }
   ],
   "source": [
    "a = 2\n",
    "b = np.array([0,1,2,3])\n",
    "a*b"
   ]
  },
  {
   "cell_type": "markdown",
   "metadata": {},
   "source": [
    "Realizar a operação acima implica em um [broadcasting](https://docs.scipy.org/doc/numpy-1.15.0/user/basics.broadcasting.html): o objeto **a**, de dimensão 1, é \"esticado\" para ficar do mesmo tamanho que **b**, de dimensão 4. A operação equivalente seria:"
   ]
  },
  {
   "cell_type": "code",
   "execution_count": 3,
   "metadata": {},
   "outputs": [
    {
     "data": {
      "text/plain": [
       "array([0, 2, 4, 6])"
      ]
     },
     "execution_count": 3,
     "metadata": {},
     "output_type": "execute_result"
    }
   ],
   "source": [
    "a = np.array([2,2,2,2])\n",
    "b = np.array([0,1,2,3])\n",
    "a*b"
   ]
  },
  {
   "cell_type": "markdown",
   "metadata": {},
   "source": [
    "Apesar da equivalência, no primeiro caso a operação se dá de forma muito mais eficiente."
   ]
  },
  {
   "cell_type": "markdown",
   "metadata": {},
   "source": [
    "### Usando broadcasting para construir janelas móveis"
   ]
  },
  {
   "cell_type": "markdown",
   "metadata": {},
   "source": [
    "Construiremos aqui, de forma vetorizada, janelas móveis que percorrem matrizes de dados usando o [broadcasting](https://docs.scipy.org/doc/numpy-1.15.0/user/basics.broadcasting.html). A abordagem é baseada em https://stackoverflow.com/questions/39232790.\n",
    "\n",
    "A matriz usada como exemplo será:"
   ]
  },
  {
   "cell_type": "code",
   "execution_count": 4,
   "metadata": {},
   "outputs": [
    {
     "data": {
      "text/plain": [
       "array([[ 8.38322742e-01, -1.50303231e+00, -1.73420409e+00],\n",
       "       [-1.20242460e-01,  4.86217705e-04,  2.60542438e-01],\n",
       "       [ 1.23208031e+00,  7.60189332e-01, -2.98666451e-01],\n",
       "       [ 1.58798057e+00,  2.35231562e-01, -1.39136150e+00],\n",
       "       [ 1.12697145e+00, -8.26400137e-02,  1.44703418e+00],\n",
       "       [-2.22221991e+00,  4.74263050e-01, -9.03073807e-01]])"
      ]
     },
     "execution_count": 4,
     "metadata": {},
     "output_type": "execute_result"
    }
   ],
   "source": [
    "arr = np.random.randn(6,3)\n",
    "arr"
   ]
  },
  {
   "cell_type": "markdown",
   "metadata": {},
   "source": [
    "Para criar uma janela deslizante, definimos os parâmetros **WS** (tamanho da janela, ou *window size*) e **NW** (número de janelas, ou *number of windows*):"
   ]
  },
  {
   "cell_type": "code",
   "execution_count": 5,
   "metadata": {},
   "outputs": [],
   "source": [
    "WS = 2\n",
    "NW = arr.shape[0]-WS+1 # essa fórmula de NW é específica para janelas deslizantes!"
   ]
  },
  {
   "cell_type": "markdown",
   "metadata": {},
   "source": [
    "* Passo 1: criar uma matriz de formato **(NW,1)**:"
   ]
  },
  {
   "cell_type": "code",
   "execution_count": 6,
   "metadata": {},
   "outputs": [
    {
     "data": {
      "text/plain": [
       "array([[0],\n",
       "       [1],\n",
       "       [2],\n",
       "       [3],\n",
       "       [4]])"
      ]
     },
     "execution_count": 6,
     "metadata": {},
     "output_type": "execute_result"
    }
   ],
   "source": [
    "idx_1 = np.arange(NW)[:,np.newaxis]\n",
    "idx_1"
   ]
  },
  {
   "cell_type": "markdown",
   "metadata": {},
   "source": [
    "O **np.newaxis** dentro dos colchetes é necessário para que o formato resultante seja **(NW,1)** e não **(NW,)**."
   ]
  },
  {
   "cell_type": "markdown",
   "metadata": {},
   "source": [
    "* Passo 2: criar um vetor de dimensão **WS**:"
   ]
  },
  {
   "cell_type": "code",
   "execution_count": 7,
   "metadata": {},
   "outputs": [
    {
     "data": {
      "text/plain": [
       "array([0, 1])"
      ]
     },
     "execution_count": 7,
     "metadata": {},
     "output_type": "execute_result"
    }
   ],
   "source": [
    "idx_2 = np.arange(WS)\n",
    "idx_2"
   ]
  },
  {
   "cell_type": "markdown",
   "metadata": {},
   "source": [
    "O pulo do gato aqui está no [broadcasting](https://docs.scipy.org/doc/numpy-1.15.0/user/basics.broadcasting.html) que ocorre quando soma-se **idx_1** com **idx_2**:"
   ]
  },
  {
   "cell_type": "code",
   "execution_count": 8,
   "metadata": {},
   "outputs": [
    {
     "data": {
      "text/plain": [
       "array([[0, 1],\n",
       "       [1, 2],\n",
       "       [2, 3],\n",
       "       [3, 4],\n",
       "       [4, 5]])"
      ]
     },
     "execution_count": 8,
     "metadata": {},
     "output_type": "execute_result"
    }
   ],
   "source": [
    "idx = idx_1 + idx_2\n",
    "idx"
   ]
  },
  {
   "cell_type": "markdown",
   "metadata": {},
   "source": [
    "A soma se dá entre matrizes de formatos **(5,1)** e **(2,)**. O resultado é a duplicação dos elementos da matriz **idx_1** para se adequar à dimensão do último eixo de **idx_2**. Sendo assim, o resultado **idx** tem formato **(5,2)**.\n",
    "\n",
    "A matriz **idx** pode ser usada como índice da matriz **arr**:"
   ]
  },
  {
   "cell_type": "code",
   "execution_count": 9,
   "metadata": {},
   "outputs": [
    {
     "data": {
      "text/plain": [
       "array([[[ 8.38322742e-01, -1.50303231e+00, -1.73420409e+00],\n",
       "        [-1.20242460e-01,  4.86217705e-04,  2.60542438e-01]],\n",
       "\n",
       "       [[-1.20242460e-01,  4.86217705e-04,  2.60542438e-01],\n",
       "        [ 1.23208031e+00,  7.60189332e-01, -2.98666451e-01]],\n",
       "\n",
       "       [[ 1.23208031e+00,  7.60189332e-01, -2.98666451e-01],\n",
       "        [ 1.58798057e+00,  2.35231562e-01, -1.39136150e+00]],\n",
       "\n",
       "       [[ 1.58798057e+00,  2.35231562e-01, -1.39136150e+00],\n",
       "        [ 1.12697145e+00, -8.26400137e-02,  1.44703418e+00]],\n",
       "\n",
       "       [[ 1.12697145e+00, -8.26400137e-02,  1.44703418e+00],\n",
       "        [-2.22221991e+00,  4.74263050e-01, -9.03073807e-01]]])"
      ]
     },
     "execution_count": 9,
     "metadata": {},
     "output_type": "execute_result"
    }
   ],
   "source": [
    "janelas = arr[idx]\n",
    "janelas"
   ]
  },
  {
   "cell_type": "code",
   "execution_count": 10,
   "metadata": {},
   "outputs": [
    {
     "data": {
      "text/plain": [
       "(5, 2, 3)"
      ]
     },
     "execution_count": 10,
     "metadata": {},
     "output_type": "execute_result"
    }
   ],
   "source": [
    "janelas.shape"
   ]
  },
  {
   "cell_type": "markdown",
   "metadata": {},
   "source": [
    "Quase como passe de mágica, estão criadas nossas janelas móveis! Calculadas de forma eficiente, vetorizada e sem loops.\n",
    "\n",
    "Na matriz 3d acima, tem-se os seguintes eixos:\n",
    "\n",
    "* 0: correspondente às várias janelas, de dimensão 5;\n",
    "* 1: correspondente aos pontos (observações) em cada janela, de dimensão 2;\n",
    "* 2: correspondente às variáveis, de dimensão 3.\n",
    "\n",
    "A seguir, temos exemplos concretos de indexação dessa matriz 3d de modo a selecionar algumas porções de interesse.\n",
    "\n",
    "Selecionando a primeira janela:"
   ]
  },
  {
   "cell_type": "code",
   "execution_count": 11,
   "metadata": {},
   "outputs": [
    {
     "data": {
      "text/plain": [
       "array([[ 8.38322742e-01, -1.50303231e+00, -1.73420409e+00],\n",
       "       [-1.20242460e-01,  4.86217705e-04,  2.60542438e-01]])"
      ]
     },
     "execution_count": 11,
     "metadata": {},
     "output_type": "execute_result"
    }
   ],
   "source": [
    "janelas[0,:,:]"
   ]
  },
  {
   "cell_type": "markdown",
   "metadata": {},
   "source": [
    "Selecionando a segunda observação de cada uma das janelas:"
   ]
  },
  {
   "cell_type": "code",
   "execution_count": 12,
   "metadata": {},
   "outputs": [
    {
     "data": {
      "text/plain": [
       "array([[-1.20242460e-01,  4.86217705e-04,  2.60542438e-01],\n",
       "       [ 1.23208031e+00,  7.60189332e-01, -2.98666451e-01],\n",
       "       [ 1.58798057e+00,  2.35231562e-01, -1.39136150e+00],\n",
       "       [ 1.12697145e+00, -8.26400137e-02,  1.44703418e+00],\n",
       "       [-2.22221991e+00,  4.74263050e-01, -9.03073807e-01]])"
      ]
     },
     "execution_count": 12,
     "metadata": {},
     "output_type": "execute_result"
    }
   ],
   "source": [
    "janelas[:,1,:]"
   ]
  },
  {
   "cell_type": "markdown",
   "metadata": {},
   "source": [
    "Selecionando a terceira variável de cada uma das janelas:"
   ]
  },
  {
   "cell_type": "code",
   "execution_count": 13,
   "metadata": {},
   "outputs": [
    {
     "data": {
      "text/plain": [
       "array([[-1.73420409,  0.26054244],\n",
       "       [ 0.26054244, -0.29866645],\n",
       "       [-0.29866645, -1.3913615 ],\n",
       "       [-1.3913615 ,  1.44703418],\n",
       "       [ 1.44703418, -0.90307381]])"
      ]
     },
     "execution_count": 13,
     "metadata": {},
     "output_type": "execute_result"
    }
   ],
   "source": [
    "janelas[:,:,2]"
   ]
  },
  {
   "cell_type": "markdown",
   "metadata": {},
   "source": [
    "Selecionando a primeira observação das duas últimas variáveis em cada uma das três primeiras janelas:"
   ]
  },
  {
   "cell_type": "code",
   "execution_count": 14,
   "metadata": {},
   "outputs": [
    {
     "data": {
      "text/plain": [
       "array([[-1.50303231e+00, -1.73420409e+00],\n",
       "       [ 4.86217705e-04,  2.60542438e-01],\n",
       "       [ 7.60189332e-01, -2.98666451e-01]])"
      ]
     },
     "execution_count": 14,
     "metadata": {},
     "output_type": "execute_result"
    }
   ],
   "source": [
    "janelas[0:3,0,-2:]"
   ]
  },
  {
   "cell_type": "markdown",
   "metadata": {},
   "source": [
    "### Usando broadcasting para construir janelas móveis - generalização do cálculo"
   ]
  },
  {
   "cell_type": "markdown",
   "metadata": {},
   "source": [
    "Abaixo, tem-se uma função lambda que condensa os cálculos para criação da matriz dos índices que geram a matriz 3d de janelas:"
   ]
  },
  {
   "cell_type": "code",
   "execution_count": 15,
   "metadata": {},
   "outputs": [],
   "source": [
    "idx = lambda n_rows,WS,d: (d*np.arange((n_rows-WS+1)/d)[:,None].astype(int) + np.arange(WS))"
   ]
  },
  {
   "cell_type": "markdown",
   "metadata": {},
   "source": [
    "O parâmetro $d$ indica o grau de acoplamento entre as janelas. Se $d=1$, tem-se as chamadas janelas deslizantes (ou adjuntas). Se $d=WS$, tem-se as janelas independentes (ou disjuntas).\n",
    "\n",
    "Por exemplo, para o caso de janelas deslizantes de tamanho 2:"
   ]
  },
  {
   "cell_type": "code",
   "execution_count": 16,
   "metadata": {},
   "outputs": [
    {
     "data": {
      "text/plain": [
       "array([[[ 8.38322742e-01, -1.50303231e+00, -1.73420409e+00],\n",
       "        [-1.20242460e-01,  4.86217705e-04,  2.60542438e-01]],\n",
       "\n",
       "       [[-1.20242460e-01,  4.86217705e-04,  2.60542438e-01],\n",
       "        [ 1.23208031e+00,  7.60189332e-01, -2.98666451e-01]],\n",
       "\n",
       "       [[ 1.23208031e+00,  7.60189332e-01, -2.98666451e-01],\n",
       "        [ 1.58798057e+00,  2.35231562e-01, -1.39136150e+00]],\n",
       "\n",
       "       [[ 1.58798057e+00,  2.35231562e-01, -1.39136150e+00],\n",
       "        [ 1.12697145e+00, -8.26400137e-02,  1.44703418e+00]],\n",
       "\n",
       "       [[ 1.12697145e+00, -8.26400137e-02,  1.44703418e+00],\n",
       "        [-2.22221991e+00,  4.74263050e-01, -9.03073807e-01]]])"
      ]
     },
     "execution_count": 16,
     "metadata": {},
     "output_type": "execute_result"
    }
   ],
   "source": [
    "arr[idx(arr.shape[0],2,1)]"
   ]
  },
  {
   "cell_type": "markdown",
   "metadata": {},
   "source": [
    "Já para o caso de janelas independentes de tamanho 2:"
   ]
  },
  {
   "cell_type": "code",
   "execution_count": 17,
   "metadata": {},
   "outputs": [
    {
     "data": {
      "text/plain": [
       "array([[[ 8.38322742e-01, -1.50303231e+00, -1.73420409e+00],\n",
       "        [-1.20242460e-01,  4.86217705e-04,  2.60542438e-01]],\n",
       "\n",
       "       [[ 1.23208031e+00,  7.60189332e-01, -2.98666451e-01],\n",
       "        [ 1.58798057e+00,  2.35231562e-01, -1.39136150e+00]],\n",
       "\n",
       "       [[ 1.12697145e+00, -8.26400137e-02,  1.44703418e+00],\n",
       "        [-2.22221991e+00,  4.74263050e-01, -9.03073807e-01]]])"
      ]
     },
     "execution_count": 17,
     "metadata": {},
     "output_type": "execute_result"
    }
   ],
   "source": [
    "arr[idx(arr.shape[0],2,2)]"
   ]
  },
  {
   "cell_type": "markdown",
   "metadata": {},
   "source": [
    "### Calculando espectros de variância"
   ]
  },
  {
   "cell_type": "markdown",
   "metadata": {},
   "source": [
    "Usaremos a mesma matriz-exemplo:"
   ]
  },
  {
   "cell_type": "code",
   "execution_count": 18,
   "metadata": {},
   "outputs": [
    {
     "data": {
      "text/plain": [
       "array([[[ 8.38322742e-01, -1.50303231e+00, -1.73420409e+00],\n",
       "        [-1.20242460e-01,  4.86217705e-04,  2.60542438e-01]],\n",
       "\n",
       "       [[-1.20242460e-01,  4.86217705e-04,  2.60542438e-01],\n",
       "        [ 1.23208031e+00,  7.60189332e-01, -2.98666451e-01]],\n",
       "\n",
       "       [[ 1.23208031e+00,  7.60189332e-01, -2.98666451e-01],\n",
       "        [ 1.58798057e+00,  2.35231562e-01, -1.39136150e+00]],\n",
       "\n",
       "       [[ 1.58798057e+00,  2.35231562e-01, -1.39136150e+00],\n",
       "        [ 1.12697145e+00, -8.26400137e-02,  1.44703418e+00]],\n",
       "\n",
       "       [[ 1.12697145e+00, -8.26400137e-02,  1.44703418e+00],\n",
       "        [-2.22221991e+00,  4.74263050e-01, -9.03073807e-01]]])"
      ]
     },
     "execution_count": 18,
     "metadata": {},
     "output_type": "execute_result"
    }
   ],
   "source": [
    "janelas"
   ]
  },
  {
   "cell_type": "markdown",
   "metadata": {},
   "source": [
    "Calculando as variâncias ao longo do eixo 1 (correspondente às observações em cada janela):"
   ]
  },
  {
   "cell_type": "code",
   "execution_count": 19,
   "metadata": {},
   "outputs": [
    {
     "data": {
      "text/plain": [
       "array([[0.45942362, 1.13028398, 1.98950685],\n",
       "       [0.91438843, 0.28857441, 0.15635729],\n",
       "       [0.0633325 , 0.13779033, 0.59699123],\n",
       "       [0.1062647 , 0.05052117, 4.02824501],\n",
       "       [5.60854138, 0.15507051, 2.76150378]])"
      ]
     },
     "execution_count": 19,
     "metadata": {},
     "output_type": "execute_result"
    }
   ],
   "source": [
    "var = np.var(janelas,ddof=1,axis=1)\n",
    "var"
   ]
  },
  {
   "cell_type": "markdown",
   "metadata": {},
   "source": [
    "Calculando as médias das variâncias em todas as janelas:"
   ]
  },
  {
   "cell_type": "code",
   "execution_count": 20,
   "metadata": {},
   "outputs": [
    {
     "name": "stdout",
     "output_type": "stream",
     "text": [
      "CPU times: user 115 µs, sys: 1e+03 ns, total: 116 µs\n",
      "Wall time: 126 µs\n"
     ]
    }
   ],
   "source": [
    "%%time\n",
    "var_spctr_mean = np.mean(var,axis=0)"
   ]
  },
  {
   "cell_type": "code",
   "execution_count": 21,
   "metadata": {},
   "outputs": [
    {
     "data": {
      "text/plain": [
       "array([1.43039013, 0.35244808, 1.90652083])"
      ]
     },
     "execution_count": 21,
     "metadata": {},
     "output_type": "execute_result"
    }
   ],
   "source": [
    "var_spctr_mean"
   ]
  },
  {
   "cell_type": "markdown",
   "metadata": {},
   "source": [
    "Esses são os pontos dos espectros de variância de cada variável correspondentes ao tamanho de janela **WS** = 2. Para calcular os espectros inteiros, basta variar WS até o valor **arr.shape[0]+1 ** (no caso de janelas deslizantes) ou **int(arr.shape[0]/2+1)** (no caso de janelas independentes).\n",
    "\n",
    "As médias podem ser calculadas de forma ligeiramente mais eficiente usando a [soma de Einsten](https://docs.scipy.org/doc/numpy-1.15.1/reference/generated/numpy.einsum.html):"
   ]
  },
  {
   "cell_type": "code",
   "execution_count": 22,
   "metadata": {},
   "outputs": [
    {
     "name": "stdout",
     "output_type": "stream",
     "text": [
      "CPU times: user 64 µs, sys: 13 µs, total: 77 µs\n",
      "Wall time: 82 µs\n"
     ]
    }
   ],
   "source": [
    "%%time\n",
    "var_spctr_mean = np.einsum('ij->j',var)/janelas.shape[0]"
   ]
  },
  {
   "cell_type": "code",
   "execution_count": 23,
   "metadata": {},
   "outputs": [
    {
     "data": {
      "text/plain": [
       "array([1.43039013, 0.35244808, 1.90652083])"
      ]
     },
     "execution_count": 23,
     "metadata": {},
     "output_type": "execute_result"
    }
   ],
   "source": [
    "var_spctr_mean"
   ]
  },
  {
   "cell_type": "markdown",
   "metadata": {},
   "source": [
    "Para mais detalhes sobre a soma de Einsten, consultar o excelente post: https://stackoverflow.com/questions/26089893."
   ]
  },
  {
   "cell_type": "markdown",
   "metadata": {},
   "source": [
    "### Calculando espectros de covariância e correlação"
   ]
  },
  {
   "cell_type": "markdown",
   "metadata": {},
   "source": [
    "A abordagem dessa seção é baseada em https://stackoverflow.com/questions/40394775.\n",
    "\n",
    "Para entender melhor o cálculo da matriz de covariância, consultar https://stattrek.com/matrix-algebra/covariance-matrix.aspx.\n",
    " \n",
    "Usaremos a mesma matriz-exemplo:"
   ]
  },
  {
   "cell_type": "code",
   "execution_count": 24,
   "metadata": {},
   "outputs": [
    {
     "data": {
      "text/plain": [
       "array([[[ 8.38322742e-01, -1.50303231e+00, -1.73420409e+00],\n",
       "        [-1.20242460e-01,  4.86217705e-04,  2.60542438e-01]],\n",
       "\n",
       "       [[-1.20242460e-01,  4.86217705e-04,  2.60542438e-01],\n",
       "        [ 1.23208031e+00,  7.60189332e-01, -2.98666451e-01]],\n",
       "\n",
       "       [[ 1.23208031e+00,  7.60189332e-01, -2.98666451e-01],\n",
       "        [ 1.58798057e+00,  2.35231562e-01, -1.39136150e+00]],\n",
       "\n",
       "       [[ 1.58798057e+00,  2.35231562e-01, -1.39136150e+00],\n",
       "        [ 1.12697145e+00, -8.26400137e-02,  1.44703418e+00]],\n",
       "\n",
       "       [[ 1.12697145e+00, -8.26400137e-02,  1.44703418e+00],\n",
       "        [-2.22221991e+00,  4.74263050e-01, -9.03073807e-01]]])"
      ]
     },
     "execution_count": 24,
     "metadata": {},
     "output_type": "execute_result"
    }
   ],
   "source": [
    "janelas"
   ]
  },
  {
   "cell_type": "markdown",
   "metadata": {},
   "source": [
    "A seguinte função, **calc_cov**, aceita uma matriz tridimensional de janelas, estruturada como a matriz acima, e retorna uma matriz tridimensional com a mesma estrutura, contendo no eixo 1 as matrizes de covariância de cada janela."
   ]
  },
  {
   "cell_type": "code",
   "execution_count": 25,
   "metadata": {},
   "outputs": [],
   "source": [
    "def calc_cov(x):\n",
    "    x = x - x.sum(axis=1,keepdims=True)/x.shape[1]\n",
    "    return np.einsum('ijk,ijl->ikl',x,x)/(x.shape[1] - 1)"
   ]
  },
  {
   "cell_type": "markdown",
   "metadata": {},
   "source": [
    "Explicando a função **calc_cov**:\n",
    "\n",
    "* Na primeira linha, a matriz de entrada é transformada em uma matriz de desvios em relação às médias das observações em cada janela. \n",
    "\n",
    "* Na segunda linha, é calculada a matriz tridimensional contendo as matrizes de covariância propriamente ditas, compostas pelas somas dos quadrados e produtos cruzados das observações em cada janela. É importante observar que o segundo eixo das matrizes de entrada da soma de Einsten (representado por **j** e referente ao eixo 1, ou seja, às observações em cada janela) não aparece na matriz de saída, ou seja, não aparece após a seta. Isso significa que a soma é efetuada ao longo desse eixo, que, portanto, não está presente no produto final.\n",
    "\n",
    "Usando a função:"
   ]
  },
  {
   "cell_type": "code",
   "execution_count": 26,
   "metadata": {},
   "outputs": [
    {
     "data": {
      "text/plain": [
       "array([[[ 0.45942362, -0.72061027, -0.9560473 ],\n",
       "        [-0.72061027,  1.13028398,  1.49956918],\n",
       "        [-0.9560473 ,  1.49956918,  1.98950685]],\n",
       "\n",
       "       [[ 0.91438843,  0.51368191, -0.37811546],\n",
       "        [ 0.51368191,  0.28857441, -0.21241637],\n",
       "        [-0.37811546, -0.21241637,  0.15635729]],\n",
       "\n",
       "       [[ 0.0633325 , -0.0934163 , -0.19444523],\n",
       "        [-0.0934163 ,  0.13779033,  0.28680938],\n",
       "        [-0.19444523,  0.28680938,  0.59699123]],\n",
       "\n",
       "       [[ 0.1062647 ,  0.07327085, -0.65426315],\n",
       "        [ 0.07327085,  0.05052117, -0.45112265],\n",
       "        [-0.65426315, -0.45112265,  4.02824501]],\n",
       "\n",
       "       [[ 5.60854138, -0.93258746,  3.93548069],\n",
       "        [-0.93258746,  0.15507051, -0.65439117],\n",
       "        [ 3.93548069, -0.65439117,  2.76150378]]])"
      ]
     },
     "execution_count": 26,
     "metadata": {},
     "output_type": "execute_result"
    }
   ],
   "source": [
    "Sxx = calc_cov(janelas)\n",
    "Sxx"
   ]
  },
  {
   "cell_type": "code",
   "execution_count": 27,
   "metadata": {},
   "outputs": [
    {
     "data": {
      "text/plain": [
       "(5, 3, 3)"
      ]
     },
     "execution_count": 27,
     "metadata": {},
     "output_type": "execute_result"
    }
   ],
   "source": [
    "Sxx.shape"
   ]
  },
  {
   "cell_type": "code",
   "execution_count": 28,
   "metadata": {},
   "outputs": [
    {
     "data": {
      "text/plain": [
       "(5, 2, 3)"
      ]
     },
     "execution_count": 28,
     "metadata": {},
     "output_type": "execute_result"
    }
   ],
   "source": [
    "# à título de comparação\n",
    "janelas.shape"
   ]
  },
  {
   "cell_type": "markdown",
   "metadata": {},
   "source": [
    "O eixo 0 de **Sxx** continua correspondendo às janelas, assim como na matriz-exemplo **janelas**. Já os eixos 1 e 2 compõem, conjuntamente, as matrizes de covariância. Portanto, ambos devem ter a mesma dimensão que o eixo 2 da matriz-exemplo, que corresponde às variáveis.\n",
    "\n",
    "Calculando as médias dos elementos correspondentes das diversas matrizes de covariância:"
   ]
  },
  {
   "cell_type": "code",
   "execution_count": 29,
   "metadata": {},
   "outputs": [
    {
     "name": "stdout",
     "output_type": "stream",
     "text": [
      "CPU times: user 84 µs, sys: 1e+03 ns, total: 85 µs\n",
      "Wall time: 90.8 µs\n"
     ]
    }
   ],
   "source": [
    "%%time\n",
    "Sxx_mean = np.mean(Sxx,axis=0)\n",
    "Sxx_mean"
   ]
  },
  {
   "cell_type": "code",
   "execution_count": 30,
   "metadata": {},
   "outputs": [
    {
     "data": {
      "text/plain": [
       "array([[ 1.43039013, -0.23193226,  0.35052191],\n",
       "       [-0.23193226,  0.35244808,  0.09368967],\n",
       "       [ 0.35052191,  0.09368967,  1.90652083]])"
      ]
     },
     "execution_count": 30,
     "metadata": {},
     "output_type": "execute_result"
    }
   ],
   "source": [
    "Sxx_mean"
   ]
  },
  {
   "cell_type": "code",
   "execution_count": 31,
   "metadata": {},
   "outputs": [
    {
     "name": "stdout",
     "output_type": "stream",
     "text": [
      "CPU times: user 76 µs, sys: 6 µs, total: 82 µs\n",
      "Wall time: 167 µs\n"
     ]
    }
   ],
   "source": [
    "%%time\n",
    "Sxx_mean = np.einsum('ijk->jk',Sxx)/janelas.shape[0]\n",
    "Sxx_mean"
   ]
  },
  {
   "cell_type": "code",
   "execution_count": 32,
   "metadata": {},
   "outputs": [
    {
     "data": {
      "text/plain": [
       "array([[ 1.43039013, -0.23193226,  0.35052191],\n",
       "       [-0.23193226,  0.35244808,  0.09368967],\n",
       "       [ 0.35052191,  0.09368967,  1.90652083]])"
      ]
     },
     "execution_count": 32,
     "metadata": {},
     "output_type": "execute_result"
    }
   ],
   "source": [
    "Sxx_mean"
   ]
  },
  {
   "cell_type": "markdown",
   "metadata": {},
   "source": [
    "Novamente, percebe-se que a soma de Einsten é mais eficiente.\n",
    "\n",
    "Esses são os pontos dos espectros de variância de cada variável e covariância de cada combinação de variáveis correspondentes ao tamanho de janela **WS** = 2. Novamente, para calcular os espectros inteiros, basta variar WS até o valor **arr.shape[0]+1 ** (no caso de janelas deslizantes) ou **int(arr.shape[0]/2+1)** (no caso de janelas independentes)."
   ]
  },
  {
   "cell_type": "markdown",
   "metadata": {},
   "source": [
    "Para calcular as médias das matrizes de correlação a partir de **Sxx_mean**, basta fazer:"
   ]
  },
  {
   "cell_type": "code",
   "execution_count": 33,
   "metadata": {},
   "outputs": [
    {
     "name": "stdout",
     "output_type": "stream",
     "text": [
      "CPU times: user 158 ms, sys: 7.15 ms, total: 165 ms\n",
      "Wall time: 166 ms\n"
     ]
    }
   ],
   "source": [
    "%%time\n",
    "Dinv = np.linalg.inv(np.diag(np.sqrt(np.diag(Sxx_mean))))\n",
    "r_xx_mean = Dinv@Sxx_mean@Dinv"
   ]
  },
  {
   "cell_type": "code",
   "execution_count": 34,
   "metadata": {},
   "outputs": [
    {
     "data": {
      "text/plain": [
       "array([[ 1.        , -0.32665276,  0.2122595 ],\n",
       "       [-0.32665276,  1.        ,  0.11429398],\n",
       "       [ 0.2122595 ,  0.11429398,  1.        ]])"
      ]
     },
     "execution_count": 34,
     "metadata": {},
     "output_type": "execute_result"
    }
   ],
   "source": [
    "r_xx_mean"
   ]
  },
  {
   "cell_type": "markdown",
   "metadata": {},
   "source": [
    "Portanto, calcular o espectro de correlação a partir do espectro de covariância mostra-se trivial."
   ]
  },
  {
   "cell_type": "markdown",
   "metadata": {},
   "source": [
    "### Classe espectra\n",
    "\n",
    "Na classe abaixo, os cálculos demonstrados são encapsulados e estendidos."
   ]
  },
  {
   "cell_type": "code",
   "execution_count": 35,
   "metadata": {},
   "outputs": [],
   "source": [
    "class spectra (object):\n",
    "\n",
    "    #########################\n",
    "    \n",
    "    def __init__ (self,data):\n",
    "               \n",
    "        data = np.asarray(data)\n",
    "            \n",
    "        if data.ndim==1:\n",
    "            self.data = data[:,np.newaxis]\n",
    "        elif data.ndim==2:\n",
    "                self.data = data\n",
    "        else:\n",
    "            raise ValueError('Entry must have 1 or 2 dimensions!')\n",
    "        \n",
    "        self.var_spctr   = {}\n",
    "        self.cov_spctr   = {}\n",
    "        self.corr_spctr  = {}\n",
    "        self.l_var_spctr = {}\n",
    "        \n",
    "        self.jump_WS_var   = {}\n",
    "        self.jump_WS_cov   = {}\n",
    "        self.jump_WS_l_var = {}\n",
    "        \n",
    "        kinds = ['sliding','independent']\n",
    "        \n",
    "        for kind in kinds:       \n",
    "            self.var_spctr   [kind] = {}\n",
    "            self.cov_spctr   [kind] = {}\n",
    "            self.corr_spctr  [kind] = {}\n",
    "            self.l_var_spctr [kind] = {}\n",
    "\n",
    "        self.spctr_size = {}            \n",
    "        self.spctr_size['sliding']     = self.data.shape[0]+1\n",
    "        self.spctr_size['independent'] = int(self.data.shape[0]/2+1)\n",
    "        \n",
    "        # https://stackoverflow.com/questions/39232790\n",
    "        self.idx = lambda WS,d: \\\n",
    "        (d*np.arange((self.data.shape[0]-WS+1)/d)[:,None].astype(int) + \\\n",
    "        np.arange(WS))\n",
    "\n",
    "        self.d = {}\n",
    "        self.d['sliding']     = lambda WS: 1\n",
    "        self.d['independent'] = lambda WS: WS\n",
    "        \n",
    "    #########################\n",
    "                \n",
    "    def calc_Var_Spectra (self, kind='sliding', jump_WS=1):\n",
    "        \n",
    "        self.jump_WS_var[kind] = jump_WS\n",
    "                \n",
    "        spctr_size = self.spctr_size[kind]\n",
    "                        \n",
    "        var_spctr_mean = np.zeros((spctr_size,self.data.shape[1]))\n",
    "        var_spctr_median = np.zeros((spctr_size,self.data.shape[1]))\n",
    "        \n",
    "        for WS in range(2,spctr_size,jump_WS):\n",
    "            win = self.data[self.idx(WS,self.d[kind](WS))]\n",
    "            var = np.var(win,ddof=1,axis=1)\n",
    "            var_spctr_mean[WS,:]   = np.mean(var,axis=0)\n",
    "            var_spctr_median[WS,:] = np.median(var,axis=0)\n",
    "                                \n",
    "        self.var_spctr[kind]['mean']   = var_spctr_mean                                             \n",
    "        self.var_spctr[kind]['median'] = var_spctr_median\n",
    "\n",
    "    ################################################ \n",
    "    \n",
    "    def calc_Cov_Spectra (self, kind='sliding', jump_WS=1):\n",
    "        \n",
    "        self.jump_WS_cov[kind] = jump_WS\n",
    "        \n",
    "        spctr_size = self.spctr_size[kind]\n",
    "        \n",
    "        cov_spctr_mean  = np.zeros((spctr_size,self.data.shape[1],\n",
    "                                    self.data.shape[1]))\n",
    "        corr_spctr_mean = np.zeros((spctr_size,self.data.shape[1],\n",
    "                                    self.data.shape[1]))\n",
    "                \n",
    "        # https://stackoverflow.com/questions/26089893\n",
    "        # https://stackoverflow.com/questions/40394775\n",
    "        \n",
    "        for WS in range(2,spctr_size,jump_WS):  \n",
    "            win = self.data[self.idx(WS,self.d[kind](WS))]\n",
    "            m1 = win - win.sum(axis=1,keepdims=True)/win.shape[1]\n",
    "            Sxx = np.einsum('ijk,ijl->ikl',m1,m1)/(win.shape[1] - 1)\n",
    "            Sxx_mean = np.einsum('ijk->jk',Sxx)/win.shape[0]\n",
    "            cov_spctr_mean[WS,:,:] = Sxx_mean\n",
    "            Dinv = np.linalg.inv(np.diag(np.sqrt(np.diag(Sxx_mean))))\n",
    "            corr_spctr_mean[WS,:,:] = Dinv@Sxx_mean@Dinv\n",
    "            \n",
    "        self.cov_spctr[kind]['mean']  = cov_spctr_mean\n",
    "        self.corr_spctr[kind]['mean'] = corr_spctr_mean\n",
    "\n",
    "    #########################   \n",
    "    \n",
    "    def calc_Lat_Var_Spectra (self, kind='sliding',jump_WS=1):\n",
    "        \n",
    "        self.jump_WS_l_var[kind] = jump_WS\n",
    "        \n",
    "        from sklearn.preprocessing import scale\n",
    "        data = scale(self.data)\n",
    "\n",
    "        spctr_size = self.spctr_size[kind]\n",
    "        \n",
    "        l_var_spctr_mean = np.zeros((spctr_size,data.shape[1]))\n",
    "                \n",
    "        for WS in range(data.shape[1],spctr_size,jump_WS):  \n",
    "            win = data[self.idx(WS,self.d[kind](WS))]\n",
    "            m1 = win - win.sum(axis=1,keepdims=True)/win.shape[1]\n",
    "            Sxx = np.einsum('ijk,ijl->ikl',m1,m1)/(win.shape[1] - 1)\n",
    "            Sxx_mean = np.einsum('ijk->jk',Sxx)/win.shape[0]\n",
    "            _, L, _ = np.linalg.svd(Sxx_mean)\n",
    "            l_var_spctr_mean[WS,:] = L\n",
    "            \n",
    "        self.l_var_spctr[kind]['mean'] = l_var_spctr_mean\n",
    "        \n",
    "    #########################   \n",
    "\n",
    "    def plot_Var_Spectra(self,i=None,ax=None,mean_or_median='mean'):\n",
    "        \n",
    "        if i==None:\n",
    "            i= np.arange(self.data.shape[1])\n",
    "        if ax == None:\n",
    "            ax = plt.gca() \n",
    "        if self.var_spctr['sliding']:\n",
    "            ax.set_prop_cycle(None)\n",
    "            ax.plot(np.arange(2,self.spctr_size['sliding'],\n",
    "                              self.jump_WS_var['sliding']),\n",
    "                    self.var_spctr['sliding']\n",
    "                                  [mean_or_median]\n",
    "                                  [2::self.jump_WS_var['sliding'],i])\n",
    "        if self.var_spctr['independent']:\n",
    "            ax.set_prop_cycle(None)\n",
    "            ax.plot(np.arange(2,self.spctr_size['independent'],\n",
    "                              self.jump_WS_var['independent']),\n",
    "                    self.var_spctr['independent']\n",
    "                                  [mean_or_median]\n",
    "                                  [2::self.jump_WS_var['independent'],i],'.')\n",
    "        ax.set_xlabel('Window size')\n",
    "        ax.set_ylabel('$\\sigma^2$')\n",
    "        ax.set_xticks(list(ax.get_xticks()) + [2])\n",
    "        ax.margins(0);\n",
    "        \n",
    "    ######################### \n",
    "    \n",
    "    def plot_Cov_Spectra(self,i,j,ax=None,\n",
    "                         mean_or_median='mean',\n",
    "                         corr_or_cov='corr'):\n",
    "\n",
    "        if ax == None:\n",
    "            ax = plt.gca()        \n",
    "            \n",
    "        if corr_or_cov == 'corr':\n",
    "            spctr = self.corr_spctr\n",
    "            ylabel='$r_{ij}$'\n",
    "        elif corr_or_cov == 'cov':\n",
    "            spctr = self.cov_spctr\n",
    "            ylabel='$\\sigma_{ij}^2$'    \n",
    "            \n",
    "        if spctr['sliding']:\n",
    "            ax.set_prop_cycle(None)\n",
    "            ax.plot(np.arange(2,self.spctr_size['sliding'],\n",
    "                              self.jump_WS_cov['sliding']),\n",
    "                    spctr['sliding'][mean_or_median]\n",
    "                         [2::self.jump_WS_cov['sliding'],i,j])\n",
    "        if spctr['independent']:\n",
    "            ax.set_prop_cycle(None)\n",
    "            ax.plot(np.arange(2,self.spctr_size['independent'],\n",
    "                              self.jump_WS_cov['independent']),\n",
    "                    spctr['independent'][mean_or_median]\n",
    "                         [2::self.jump_WS_cov['independent'],i,j],'.')\n",
    "        ax.set_xticks(list(ax.get_xticks()) + [2])\n",
    "        ax.set_xlabel('Window size')\n",
    "        ax.set_ylabel(ylabel)\n",
    "        ax.margins(0);\n",
    "        \n",
    "    ######################### \n",
    "    \n",
    "    def plot_Lat_Var_Spectra(self,ax=None,mean_or_median='mean'):\n",
    "        \n",
    "        if ax == None:\n",
    "            ax = plt.gca() \n",
    "        \n",
    "        if self.l_var_spctr['independent']:\n",
    "            ax.set_prop_cycle(None)\n",
    "            ax.plot(np.arange(self.data.shape[1],\n",
    "                              self.spctr_size['independent'],\n",
    "                              self.jump_WS_l_var['independent']),\n",
    "                    self.l_var_spctr['independent']\n",
    "                                    [mean_or_median]\n",
    "                                    [self.data.shape[1]::\n",
    "                                     self.jump_WS_l_var['independent']],'.')\n",
    "        if self.l_var_spctr['sliding']:\n",
    "            ax.set_prop_cycle(None)\n",
    "            ax.plot(np.arange(self.data.shape[1],\n",
    "                              self.spctr_size['sliding'],\n",
    "                              self.jump_WS_l_var['sliding']),\n",
    "                    self.l_var_spctr['sliding']\n",
    "                                    [mean_or_median]\n",
    "                                    [self.data.shape[1]::\n",
    "                                     self.jump_WS_l_var['sliding']])            \n",
    "        ax.set_xticks(list(ax.get_xticks()) + [self.data.shape[1]])\n",
    "        ax.set_xlabel('Window size')\n",
    "        ax.set_ylabel('$\\lambda_i$')\n",
    "        ax.margins(0);"
   ]
  },
  {
   "cell_type": "markdown",
   "metadata": {},
   "source": [
    "Por exemplo, calculando o espectro de variância de um sinal senoidal:"
   ]
  },
  {
   "cell_type": "code",
   "execution_count": 36,
   "metadata": {},
   "outputs": [
    {
     "data": {
      "image/png": "[encoded data removed]",
      "text/plain": [
       "<Figure size 864x360 with 2 Axes>"
      ]
     },
     "metadata": {},
     "output_type": "display_data"
    }
   ],
   "source": [
    "t1 = np.arange(1,101)\n",
    "sinal1 = np.sin(t1/4)\n",
    "\n",
    "# creating example 1 instance\n",
    "test1 = spectra(sinal1)\n",
    "\n",
    "# calculating example 1 spectrum, with sliding windows\n",
    "test1.calc_Var_Spectra('sliding')\n",
    "\n",
    "# calculating example 1 spectrum, with independent windows\n",
    "test1.calc_Var_Spectra('independent')\n",
    "\n",
    "fig, ax = plt.subplots(1,2,figsize=(12,5))\n",
    "\n",
    "ax[0].plot(t1,sinal1)\n",
    "test1.plot_Var_Spectra(ax=ax[1])\n",
    "\n",
    "ax[0].set_xlabel('Time')\n",
    "\n",
    "ax[0].set_title('Simulated periodic signal');\n",
    "ax[1].set_title('Variance spectra');"
   ]
  },
  {
   "cell_type": "markdown",
   "metadata": {},
   "source": [
    "Para mais exemplos, checar o notebook referente à apresentaçã geral do método, disponível no repositório https://github.com/afraeq/spectra."
   ]
  },
  {
   "cell_type": "markdown",
   "metadata": {},
   "source": [
    "## Referência\n",
    "\n",
    "[Thiago Feital e José Carlos Pinto - Use of variance spectra for in-line validation of process measurements in continuous processes - The Canadian Journal of Chemical Engineering - 2015. DOI: 10.1002/cjce.22219.](http://onlinelibrary.wiley.com/doi/10.1002/cjce.22219/abstract)"
   ]
  }
 ],
 "metadata": {
  "kernelspec": {
   "display_name": "Python 3",
   "language": "python",
   "name": "python3"
  },
  "language_info": {
   "codemirror_mode": {
    "name": "ipython",
    "version": 3
   },
   "file_extension": ".py",
   "mimetype": "text/x-python",
   "name": "python",
   "nbconvert_exporter": "python",
   "pygments_lexer": "ipython3",
   "version": "3.6.5"
  }
 },
 "nbformat": 4,
 "nbformat_minor": 2
}
